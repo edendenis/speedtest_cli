{
 "cells": [
  {
   "cell_type": "markdown",
   "metadata": {},
   "source": [
    "# Como instalar/configurar/usar o `speedtest-cli` no `Linux Ubuntu`\n",
    "\n",
    "## Resumo\n",
    "\n",
    "Neste documento estão contidos os principais comandos e configurações para instalar/configurar/usar o `speedtest-cli` no `Linux Ubuntu`.\n",
    "\n",
    "## _Abstract_\n",
    "\n",
    "_This document contains the main commands and settings to install/configure/use the `speedtes-cli` on `Linux Ubuntu`._"
   ]
  },
  {
   "cell_type": "markdown",
   "metadata": {},
   "source": [
    "## Descrição [2]\n",
    "\n",
    "### `speedtest-cli`\n",
    "\n",
    "O `speedtest-cli` é uma ferramenta de linha de comando amplamente utilizada para medir a velocidade da conexão à internet de um sistema `Linux`. Baseado no serviço `Speedtest.net`, ele permite aos usuários verificar a largura de banda de download e upload de sua conexão, bem como a latência da rede, tudo a partir da linha de comando. O `speedtest-cli` é uma opção conveniente para administradores de rede, usuários avançados e aqueles que desejam monitorar a qualidade de sua conexão à internet de forma rápida e direta, sem a necessidade de uma interface gráfica. Ele fornece informações valiosas para avaliar o desempenho da rede e solucionar problemas de conectividade."
   ]
  },
  {
   "cell_type": "markdown",
   "metadata": {},
   "source": [
    "## 1. Configurar/Instalar/Usar o `speedtest-cli` no `Linux Ubuntu` [1]\n",
    "\n",
    "Para configurar/instalar/usar o `speedtest-cli` no `Linux Ubuntu`, você pode usar o gerenciador de pacotes apt. Siga os passos abaixo:\n",
    "\n",
    "1. Abra o `Terminal Emulator`. Você pode fazer isso pressionando: `Ctrl + Alt + T`\n"
   ]
  },
  {
   "cell_type": "markdown",
   "metadata": {},
   "source": [
    "2. Certifique-se de que seu sistema esteja limpo e atualizado.\n",
    "\n",
    "    2.1 Limpar o `cache` do gerenciador de pacotes `apt`. Especificamente, ele remove todos os arquivos de pacotes (`.deb`) baixados pelo `apt` e armazenados em `/var/cache/apt/archives/`. Digite o seguinte comando: `sudo apt clean` \n",
    "    \n",
    "    2.2 Remover pacotes `.deb` antigos ou duplicados do cache local. É útil para liberar espaço, pois remove apenas os pacotes que não podem mais ser baixados (ou seja, versões antigas de pacotes que foram atualizados). Digite o seguinte comando: `sudo apt autoclean`\n",
    "\n",
    "    2.3 Remover pacotes que foram automaticamente instalados para satisfazer as dependências de outros pacotes e que não são mais necessários. Digite o seguinte comando: `sudo apt autoremove -y`\n",
    "\n",
    "    2.4 Buscar as atualizações disponíveis para os pacotes que estão instalados em seu sistema. Digite o seguinte comando e pressione `Enter`: `sudo apt update`\n",
    "\n",
    "    2.5 **Corrigir pacotes quebrados**: Isso atualizará a lista de pacotes disponíveis e tentará corrigir pacotes quebrados ou com dependências ausentes: `sudo apt --fix-broken install`\n",
    "\n",
    "    2.6 Limpar o `cache` do gerenciador de pacotes `apt`. Especificamente, ele remove todos os arquivos de pacotes (`.deb`) baixados pelo `apt` e armazenados em `/var/cache/apt/archives/`. Digite o seguinte comando: `sudo apt clean` \n",
    "    \n",
    "    2.7 Para ver a lista de pacotes a serem atualizados, digite o seguinte comando e pressione `Enter`:  `sudo apt list --upgradable`\n",
    "\n",
    "    2.8 Realmente atualizar os pacotes instalados para as suas versões mais recentes, com base na última vez que você executou `sudo apt update`. Digite o seguinte comando e pressione `Enter`: `sudo apt full-upgrade -y`\n",
    "    "
   ]
  },
  {
   "cell_type": "markdown",
   "metadata": {},
   "source": [
    "Para instalar o `Postfix` no `Linux Ubuntu` através do `Terminal Emulator`, você pode seguir os passos abaixo. `Postfix` é um agente de transferência de correio (MTA) usado para enviar e receber emails. Aqui está como você pode instalá-lo:\n",
    "\n",
    "3. **Instalar o `Postfix`**: Você pode instalar o `Postfix` usando o gerenciador de pacotes `apt`. Durante a instalação, o sistema pode pedir que você escolha algumas configurações básicas: `sudo apt install postfix -y`\n",
    "\n",
    "    Durante a instalação, será solicitado que você escolha o tipo de configuração de correio. As opções mais comuns são:\n",
    "\n",
    "    - **Internet Site**: Correio é enviado e recebido diretamente usando SMTP.\n",
    "\n",
    "    - **Internet com smarthost**: O correio é recebido diretamente via SMTP, mas o envio é feito através de outro servidor.\n",
    "\n",
    "    Após escolher o tipo, você precisará configurar o nome do sistema de correio, que geralmente é o nome de domínio completo (FQDN) do seu servidor.\n",
    "\n",
    "4. **Configurações adicionais**: Após a instalação, você pode querer ajustar as configurações do `Postfix`. As configurações são armazenadas no arquivo `/etc/postfix/main.cf`. Você pode editar este arquivo usando um editor de texto, como o `nano` ou `vim`: `sudo nano /etc/postfix/main.cf`\n",
    "\n",
    "    Aqui, você pode configurar aspectos como a fila de correio, restrições de tamanho de mensagem, restrições de cliente, entre outros.\n",
    "\n",
    "5. **Reiniciar o `Postfix`**: Após fazer as mudanças desejadas, reinicie o serviço `Postfix` para aplicar as configurações: `sudo systemctl restart postfix`\n",
    "\n",
    "6. **Verificar o _status_ do `Postfix`**: Para verificar se o `Postfix` está rodando corretamente, você pode verificar o status do serviço: `sudo systemctl status postfix`\n",
    "\n",
    "Estes são os passos básicos para instalar e configurar inicialmente o `Postfix` em um sistema `Linux Ubuntu`. Dependendo do seu uso específico, você pode precisar realizar configurações adicionais, especialmente em relação à segurança e ao manuseio de _spam_."
   ]
  },
  {
   "cell_type": "markdown",
   "metadata": {},
   "source": [
    "## 1.1 Código completo para configurar/instalar/usar\n",
    "\n",
    "Para configurar/instalar/usar o `postfix` no `Linux Ubuntu` sem precisar digitar linha por linha, você pode seguir estas etapas:\n",
    "\n",
    "1. Abra o `Terminal Emulator`. Você pode fazer isso pressionando: `Ctrl + Alt + T`\n",
    "\n",
    "2. Digite o seguinte comando e pressione `Enter`:\n",
    "\n",
    "    ```\n",
    "    sudo apt clean\n",
    "    sudo apt autoclean\n",
    "    sudo apt autoremove -y\n",
    "    sudo apt update\n",
    "    sudo apt --fix-broken install\n",
    "    sudo apt clean\n",
    "    sudo apt list --upgradable\n",
    "    sudo apt full-upgrade -y\n",
    "    sudo apt install postfix -y\n",
    "    ```"
   ]
  },
  {
   "cell_type": "markdown",
   "metadata": {
    "vscode": {
     "languageId": "plaintext"
    }
   },
   "source": [
    "## Referências\n",
    "\n",
    "[1] OPENAI. ***Instale o postfix ubuntu..*** Disponível em: <https://chatgpt.com/c/2c4e9e03-53e4-404b-a612-14e129125556> (texto adaptado). ChatGPT. Acessado em: 17/04/2024 10:24.\n",
    "\n",
    "[2] OPENAI. ***Vs code: editor popular.*** Disponível em: <https://chat.openai.com/c/b640a25d-f8e3-4922-8a3b-ed74a2657e42> (texto adaptado). ChatGPT. Acessado em: 17/04/2024 10:06."
   ]
  }
 ],
 "metadata": {
  "kernelspec": {
   "display_name": "Python 3",
   "language": "python",
   "name": "python3"
  },
  "language_info": {
   "codemirror_mode": {
    "name": "ipython",
    "version": 3
   },
   "file_extension": ".py",
   "mimetype": "text/x-python",
   "name": "python",
   "nbconvert_exporter": "python",
   "pygments_lexer": "ipython3",
   "version": "3.8.10"
  },
  "orig_nbformat": 4
 },
 "nbformat": 4,
 "nbformat_minor": 2
}
